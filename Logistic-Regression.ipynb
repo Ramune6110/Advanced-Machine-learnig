{
 "cells": [
  {
   "cell_type": "code",
   "execution_count": 28,
   "metadata": {},
   "outputs": [
    {
     "data": {
      "image/png": "[encoded data removed]",
      "text/plain": [
       "<Figure size 432x288 with 1 Axes>"
      ]
     },
     "metadata": {
      "needs_background": "light"
     },
     "output_type": "display_data"
    }
   ],
   "source": [
    "# 各モジュール\n",
    "import numpy as np\n",
    "import matplotlib.pyplot as plt\n",
    "\n",
    "class Newton:\n",
    "    def __init__(self, n, w, lamda, iteration):\n",
    "        # parameter\n",
    "        self.n         = n\n",
    "        self.w         = w\n",
    "        self.lamda     = lamda\n",
    "        self.iteration = iteration\n",
    "        \n",
    "    def draw(self, w_stack, eval_stack):\n",
    "            plt.plot(w_stack, eval_stack, 'ro-', linewidth=0.5, markersize=0.5, label='newton')\n",
    "            plt.legend()\n",
    "            plt.xlabel('wight')\n",
    "            plt.ylabel('loss')\n",
    "\n",
    "    def main(self):\n",
    "        # noise\n",
    "        omega = np.random.randn()\n",
    "        noise = np.random.randn(self.n)\n",
    "        # 2次元入出力データ\n",
    "        x = np.random.randn(self.n, 2)\n",
    "        y = 2 * (omega * x[:, 0] + x[:, 1] + noise > 0) - 1\n",
    "        # 値格納用メモリ\n",
    "        w_stack    = np.zeros(self.iteration)\n",
    "        eval_stack = np.zeros(self.iteration)\n",
    "        \n",
    "        # main loop\n",
    "        for t in range(self.iteration):\n",
    "            # 事後確率\n",
    "            posterior = 1 / (1 + np.exp(-y * (self.w * x[:, 0] + x[:, 1])))\n",
    "            # 勾配方向(**a1) 評価関数をwについて一回微分したもの\n",
    "            grad = 1 / self.n * np.sum((1 - posterior) * y * x[:, 0]) + 2 * self.lamda * self.w\n",
    "            # ヘッセ行列(**a1) 評価関数をwについて二回微分したもの\n",
    "            hess = 1 / self.n * np.sum(posterior * (1 - posterior) * x[:, 0] ** 2) + 2 * self.lamda\n",
    "            # 評価関数の値(p22)\n",
    "            J = 1 / self.n * np.sum(np.log(1 + np.exp(-y * (self.w + x[:, 0] + x[:, 1])))) + self.lamda * (self.w ** 2)\n",
    "            # 値の格納\n",
    "            w_stack[t]    = self.w\n",
    "            eval_stack[t] = J\n",
    "            # 重み更新のための勾配方向 d (p35)\n",
    "            d = - grad / hess\n",
    "            # step size\n",
    "            s = 1.0 / np.sqrt(t + 10) \n",
    "            # 重み更新\n",
    "            self.w  = self.w + s * d\n",
    "        # draw graph\n",
    "        self.draw(w_stack, eval_stack)\n",
    "        \n",
    "newton = Newton(100, 3, 0.1, 300)\n",
    "newton.main()"
   ]
  },
  {
   "cell_type": "code",
   "execution_count": 29,
   "metadata": {},
   "outputs": [
    {
     "data": {
      "image/png": "[encoded data removed]",
      "text/plain": [
       "<Figure size 432x288 with 1 Axes>"
      ]
     },
     "metadata": {
      "needs_background": "light"
     },
     "output_type": "display_data"
    }
   ],
   "source": [
    "# 各モジュール\n",
    "import numpy as np\n",
    "import matplotlib.pyplot as plt\n",
    "\n",
    "class Newton:\n",
    "    def __init__(self, n, w, lamda, iteration,alpha):\n",
    "        # parameter\n",
    "        self.n         = n\n",
    "        self.w         = w\n",
    "        self.lamda     = lamda\n",
    "        self.alpha     = alpha\n",
    "        self.iteration = iteration\n",
    "        \n",
    "    def draw(self, w_stack, eval_stack):\n",
    "            plt.plot(w_stack, eval_stack, 'bo-', linewidth=0.5, markersize=0.5, label='steepest')\n",
    "            plt.legend()\n",
    "            plt.xlabel('wight')\n",
    "            plt.ylabel('loss')\n",
    "\n",
    "    def main(self):\n",
    "        # noise\n",
    "        omega = np.random.randn()\n",
    "        noise = np.random.randn(self.n)\n",
    "        # 2次元入出力データ\n",
    "        x = np.random.randn(self.n, 2)\n",
    "        y = 2 * (omega * x[:, 0] + x[:, 1] + noise > 0) - 1\n",
    "        # 値格納用メモリ\n",
    "        w_stack    = np.zeros(self.iteration)\n",
    "        eval_stack = np.zeros(self.iteration)\n",
    "        \n",
    "        # main loop\n",
    "        for t in range(self.iteration):\n",
    "            # 事後確率\n",
    "            posterior = 1 / (1 + np.exp(-y * (self.w * x[:, 0] + x[:, 1])))\n",
    "            # 勾配方向(**a1) 評価関数をwについて一回微分したもの\n",
    "            grad = 1 / self.n * np.sum((1 - posterior) * y * x[:, 0]) + 2 * self.lamda * self.w\n",
    "            # 評価関数の値(p22)\n",
    "            J = 1 / self.n * np.sum(np.log(1 + np.exp(-y * (self.w + x[:, 0] + x[:, 1])))) + self.lamda * (self.w ** 2)\n",
    "            # 値の格納\n",
    "            w_stack[t]    = self.w\n",
    "            eval_stack[t] = J\n",
    "            # step size\n",
    "            s = 1.0 / np.sqrt(t + 10) \n",
    "            # 重み更新\n",
    "            self.w  = self.w - self.alpha * s * grad\n",
    "        # draw graph\n",
    "        self.draw(w_stack, eval_stack)\n",
    "    \n",
    "newton = Newton(100, 3, 0.1, 300, 1)\n",
    "newton.main()"
   ]
  }
 ],
 "metadata": {
  "kernelspec": {
   "display_name": "Python 3",
   "language": "python",
   "name": "python3"
  },
  "language_info": {
   "codemirror_mode": {
    "name": "ipython",
    "version": 3
   },
   "file_extension": ".py",
   "mimetype": "text/x-python",
   "name": "python",
   "nbconvert_exporter": "python",
   "pygments_lexer": "ipython3",
   "version": "3.7.6"
  }
 },
 "nbformat": 4,
 "nbformat_minor": 4
}
